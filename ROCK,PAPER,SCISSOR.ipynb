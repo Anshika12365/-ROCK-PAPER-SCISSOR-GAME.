{
  "cells": [
    {
      "cell_type": "markdown",
      "metadata": {
        "id": "V1cS9DjCc-yb"
      },
      "source": [
        "## ROCK, PAPER, SCISSOR GAME"
      ]
    },
    {
      "cell_type": "markdown",
      "source": [
        " Rock-Paper-Scissors Game\n",
        "\n",
        "TASK\n",
        "\n",
        "User Input: Prompt the user to choose rock, paper, or scissors.\n",
        "\n",
        "Computer Selection: Generate a random choice (rock, paper, or scissors) for\n",
        "\n",
        "the computer.\n",
        "\n",
        "Game Logic: Determine the winner based on the user's choice and the\n",
        "\n",
        "computer's choice.\n",
        "\n",
        "Rock beats scissors, scissors beat paper, and paper beats rock.\n",
        "Display Result: Show the user's choice and the computer's choice.\n",
        "\n",
        "Display the result, whether the user wins, loses, or it's a tie.\n",
        "\n",
        "Score Tracking (Optional): Keep track of the user's and computer's scores for\n",
        "\n",
        "multiple rounds.\n",
        "\n",
        "Play Again: Ask the user if they want to play another round.\n",
        "\n",
        "User Interface: Design a user-friendly interface with clear instructions and\n",
        "\n",
        "feedback."
      ],
      "metadata": {
        "id": "O07tuMjR0Bl1"
      }
    },
    {
      "cell_type": "code",
      "execution_count": 2,
      "metadata": {
        "id": "6ahhQ425hSvD"
      },
      "outputs": [],
      "source": [
        "from random import randint"
      ]
    },
    {
      "cell_type": "code",
      "execution_count": 11,
      "metadata": {
        "colab": {
          "base_uri": "https://localhost:8080/"
        },
        "id": "fjKu3LL2ja5j",
        "outputId": "4bdd27e2-99a1-4440-dfac-976efe43bf9a"
      },
      "outputs": [
        {
          "name": "stdout",
          "output_type": "stream",
          "text": [
            "enter your choiceRock\n",
            "you win Rock smashes Scissor\n",
            "Do you want to play again? (yes/no): yes\n",
            "enter your choicePaper\n",
            "Game tie\n",
            "Do you want to play again? (yes/no): yes\n",
            "enter your choiceScissor\n",
            "you win Scissor cuts Paper\n",
            "Do you want to play again? (yes/no): no\n"
          ]
        }
      ],
      "source": [
        "\n",
        "\n",
        "##create a list of play options\n",
        "l=[\"Rock\",\"Paper\",\"Scissor\"]\n",
        "\n",
        "## assigning a random play to the computer\n",
        "\n",
        "while True:\n",
        "    # Assign a random play to the computer\n",
        "    computer = l[randint(0, 2)]\n",
        "\n",
        "## set player to false\n",
        "    player=False\n",
        "    while not player:\n",
        "\n",
        "  ## set player to true\n",
        "     player=input(\"enter your choice\")\n",
        "\n",
        "    if player==computer:\n",
        "     print(\"Game tie\")\n",
        "\n",
        "    elif player==\"Rock\":\n",
        "\n",
        "     if computer==\"Paper\":\n",
        "      print(\"You lose\",computer,\"covers\",player)\n",
        "     else:\n",
        "      print(\"you win\",player,\"smashes\",computer)\n",
        "\n",
        "    elif player== \"Paper\":\n",
        "\n",
        "     if computer ==\"Scissor\":\n",
        "      print(\"you lose\",computer,\"cut\",player)\n",
        "     else:\n",
        "      print(\"you win\",player,\"covers\",computer)\n",
        "\n",
        "    elif player == \"Scissor\":\n",
        "\n",
        "     if computer==\"Rock\":\n",
        "       print(\"You lose\",computer,\"smashes\",player)\n",
        "     else:\n",
        "       print(\"you win\", player,\"cuts\",computer)\n",
        "\n",
        "    else:\n",
        "       print(\"this is not a valid play. May be you write a wrong spelling. please check spelling\")\n",
        "\n",
        "       # Ask the player if they want to play again\n",
        "    play_again = input(\"Do you want to play again? (yes/no): \").lower()\n",
        "\n",
        "    if play_again != 'yes':\n",
        "      break\n",
        "\n",
        "    else:\n",
        "\n",
        "      computer=l[randint(0,2)]"
      ]
    }
  ],
  "metadata": {
    "colab": {
      "provenance": []
    },
    "kernelspec": {
      "display_name": "Python 3",
      "name": "python3"
    },
    "language_info": {
      "name": "python"
    }
  },
  "nbformat": 4,
  "nbformat_minor": 0
}